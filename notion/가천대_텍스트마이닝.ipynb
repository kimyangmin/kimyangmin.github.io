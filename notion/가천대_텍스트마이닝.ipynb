{
  "nbformat": 4,
  "nbformat_minor": 0,
  "metadata": {
    "colab": {
      "provenance": []
    },
    "kernelspec": {
      "name": "python3",
      "display_name": "Python 3"
    },
    "language_info": {
      "name": "python"
    }
  },
  "cells": [
    {
      "cell_type": "markdown",
      "source": [],
      "metadata": {
        "id": "RFPjSdw5cV65"
      }
    },
    {
      "cell_type": "code",
      "execution_count": null,
      "metadata": {
        "id": "3WYtVz4TcPqQ"
      },
      "outputs": [],
      "source": [
        "print(\"Hello World!\")"
      ]
    },
    {
      "cell_type": "code",
      "source": [
        "!sudo apt-get install -y fonts-nanum # fonts-nanum 한글 폰트를 시스템에 설치\n",
        "!sudo fc-cache -fv  # 설치된 폰트가 제대로 작동하도록 폰트 캐시를 업데이트\n",
        "!rm ~/.cache/matplotlib -rf # matplotlib 라이브러리 캐시를 삭제하고 새 폰트로 적용"
      ],
      "metadata": {
        "id": "wIOSsxzydLPJ"
      },
      "execution_count": null,
      "outputs": []
    },
    {
      "cell_type": "code",
      "source": [
        "!pip install konlpy # konlpy는 한국어 텍스트를 분석할 수 있다."
      ],
      "metadata": {
        "id": "dIahQMRUdN_i"
      },
      "execution_count": null,
      "outputs": []
    },
    {
      "cell_type": "code",
      "source": [
        "!pip install jpype1 # jpype1은 자바와 파이썬을 연동할 수 있게 해주는 라이브러리"
      ],
      "metadata": {
        "id": "56siLC_Oeagi"
      },
      "execution_count": null,
      "outputs": []
    },
    {
      "cell_type": "code",
      "source": [
        "import konlpy\n",
        "hannanum = konlpy.tag.Hannanum()\n",
        "\n",
        "hannanum.nouns(\"대한민국의 영토는 한반도와 그 부속도서로 한다.\")"
      ],
      "metadata": {
        "id": "41_Q1V9Fepz3"
      },
      "execution_count": null,
      "outputs": []
    },
    {
      "cell_type": "code",
      "source": [
        "constitution = open('/content/대한민국헌법.txt', encoding='UTF-8').read()\n",
        "constitution\n",
        "\n",
        "# import konlpy\n",
        "# hannanum = konlpy.tag.Hannanum()\n",
        "# hannanum.nouns(constitution)"
      ],
      "metadata": {
        "id": "9UOrzjV2hVFW"
      },
      "execution_count": null,
      "outputs": []
    },
    {
      "cell_type": "code",
      "source": [
        "import re\n",
        "\n",
        "constitution = re.sub('[0-9①-⑨]', ' ', constitution)\n",
        "\n",
        "constitution"
      ],
      "metadata": {
        "id": "Njh_qMiPiH-f"
      },
      "execution_count": null,
      "outputs": []
    },
    {
      "cell_type": "code",
      "source": [
        "import konlpy\n",
        "hannanum = konlpy.tag.Hannanum()\n",
        "\n",
        "nouns = hannanum.nouns(constitution)\n",
        "nouns"
      ],
      "metadata": {
        "id": "ft1DU8RqjNrF"
      },
      "execution_count": null,
      "outputs": []
    },
    {
      "cell_type": "code",
      "source": [
        "import pandas as pd\n",
        "\n",
        "df_word = pd.DataFrame({'word':nouns})\n",
        "\n",
        "df_word"
      ],
      "metadata": {
        "id": "F5hJfD9Ejkk9"
      },
      "execution_count": null,
      "outputs": []
    },
    {
      "cell_type": "code",
      "source": [
        "df_word['count'] = df_word['word'].str.len()\n",
        "\n",
        "df_word"
      ],
      "metadata": {
        "id": "yZ2EBgYJkMlt"
      },
      "execution_count": null,
      "outputs": []
    },
    {
      "cell_type": "code",
      "source": [
        "df_word = df_word.query('count >= 2')\n",
        "\n",
        "df_word.sort_values('count')"
      ],
      "metadata": {
        "id": "JMAOmMhHkrom"
      },
      "execution_count": null,
      "outputs": []
    },
    {
      "cell_type": "code",
      "source": [
        "df_word = df_word.groupby('word', as_index = False)\\\n",
        "  .agg(n = ('word', 'count')).sort_values('n', ascending=False)\n",
        "\n",
        "df_word"
      ],
      "metadata": {
        "id": "hRlm_sUYlD1F"
      },
      "execution_count": null,
      "outputs": []
    },
    {
      "cell_type": "code",
      "source": [
        "top20 = df_word.head(20)\n",
        "\n",
        "top20"
      ],
      "metadata": {
        "id": "WiF4xcrDmWr6"
      },
      "execution_count": null,
      "outputs": []
    },
    {
      "cell_type": "code",
      "source": [
        "import seaborn as sns\n",
        "\n",
        "import matplotlib.pyplot as plt\n",
        "\n",
        "plt.rcParams['font.family']='NanumGothic'\n",
        "\n",
        "sns.barplot(data = top20, y='word', x='n')"
      ],
      "metadata": {
        "id": "tURJoGMNmFBr"
      },
      "execution_count": null,
      "outputs": []
    },
    {
      "cell_type": "code",
      "source": [
        "top10 = df_word.head(10)\n",
        "\n",
        "top10"
      ],
      "metadata": {
        "id": "1tIGHzkLnliC"
      },
      "execution_count": null,
      "outputs": []
    },
    {
      "cell_type": "code",
      "source": [
        "import seaborn as sns\n",
        "import matplotlib.pyplot as plt\n",
        "\n",
        "plt.rcParams['font.family']='NanumGothic'\n",
        "sns.barplot(data=top10, y='word', x='n')"
      ],
      "metadata": {
        "id": "uR7pApsws9_p"
      },
      "execution_count": null,
      "outputs": []
    },
    {
      "cell_type": "code",
      "source": [
        "!pip install wordcloud"
      ],
      "metadata": {
        "id": "wWInUT4MtQHg"
      },
      "execution_count": null,
      "outputs": []
    },
    {
      "cell_type": "code",
      "source": [
        "import matplotlib.pyplot as plt\n",
        "import matplotlib.font_manager as fm\n",
        "\n",
        "sys_font = fm.findSystemFonts()\n",
        "\n",
        "[f for f in sys_font if 'Nanum' in f]"
      ],
      "metadata": {
        "id": "hdpGb3efthDH"
      },
      "execution_count": null,
      "outputs": []
    },
    {
      "cell_type": "code",
      "source": [
        "dic_word = df_word.set_index('word').to_dict()['n']\n",
        "dic_word"
      ],
      "metadata": {
        "id": "vvjINNhjt3E-"
      },
      "execution_count": null,
      "outputs": []
    },
    {
      "cell_type": "code",
      "source": [
        "import matplotlib.pyplot as plt\n",
        "\n",
        "from wordcloud.wordcloud import FONT_PATH\n",
        "from wordcloud import WordCloud\n",
        "\n",
        "FONT_PATH = '/usr/share/fonts/truetype/nanum/NanumSquareRoundR.ttf'"
      ],
      "metadata": {
        "id": "m0dHsFHbt8W-"
      },
      "execution_count": null,
      "outputs": []
    },
    {
      "cell_type": "code",
      "source": [
        "wc = WordCloud(random_state=55,\n",
        "  font_path = FONT_PATH,\n",
        "  width = 300, height = 300,\n",
        "  background_color = 'white')\n",
        "\n",
        "img_wordcloud = wc.generate_from_frequencies(dic_word)\n",
        "\n",
        "plt.figure(figsize=(10, 10))\n",
        "plt.axis('off')\n",
        "plt.imshow(img_wordcloud)"
      ],
      "metadata": {
        "id": "CSQL2bF2uRUW"
      },
      "execution_count": null,
      "outputs": []
    },
    {
      "cell_type": "code",
      "source": [
        "import PIL\n",
        "\n",
        "icon = PIL.Image.open('/content/cloud.png')\n",
        "plt.imshow(icon)"
      ],
      "metadata": {
        "id": "-_vSAsmtw1pd"
      },
      "execution_count": null,
      "outputs": []
    },
    {
      "cell_type": "code",
      "source": [
        "import numpy as np\n",
        "\n",
        "img = PIL.Image.new(\"RGB\", icon.size, (255, 255, 255))\n",
        "img.paste(icon, icon)\n",
        "img = np.array(img)"
      ],
      "metadata": {
        "id": "XDmv52gixPur"
      },
      "execution_count": null,
      "outputs": []
    },
    {
      "cell_type": "code",
      "source": [
        "wc = WordCloud(\n",
        "    random_state = 1234,\n",
        "    font_path = FONT_PATH,\n",
        "    width = 400,\n",
        "    height = 400,\n",
        "    background_color = 'white',\n",
        "    mask = img\n",
        ")"
      ],
      "metadata": {
        "id": "_4zlO6cExfT1"
      },
      "execution_count": null,
      "outputs": []
    },
    {
      "cell_type": "code",
      "source": [
        "img_wordcloud = wc.generate_from_frequencies(dic_word)\n",
        "\n",
        "plt.figure(figsize = (10, 10))\n",
        "plt.axis('off')\n",
        "plt.imshow(img_wordcloud)"
      ],
      "metadata": {
        "id": "kE_2cf8lxqbU"
      },
      "execution_count": null,
      "outputs": []
    },
    {
      "cell_type": "code",
      "source": [
        "wc = WordCloud(\n",
        "    random_state = 1234,\n",
        "    font_path = FONT_PATH,\n",
        "    width = 400,\n",
        "    height = 400,\n",
        "    background_color = 'white',\n",
        "    mask = img,\n",
        "    colormap = 'inferno'\n",
        ")"
      ],
      "metadata": {
        "id": "h-GHuL4kx3fu"
      },
      "execution_count": null,
      "outputs": []
    },
    {
      "cell_type": "code",
      "source": [
        "img_wordcloud = wc.generate_from_frequencies(dic_word)\n",
        "\n",
        "plt.figure(figsize = (10, 10))\n",
        "plt.axis('off')\n",
        "plt.imshow(img_wordcloud)"
      ],
      "metadata": {
        "id": "yzlaZogxx6Gy"
      },
      "execution_count": null,
      "outputs": []
    }
  ]
}